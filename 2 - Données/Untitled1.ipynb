{
 "cells": [
  {
   "cell_type": "code",
   "execution_count": 4,
   "metadata": {},
   "outputs": [],
   "source": [
    "import numpy as np\n",
    "import cv2\n",
    "import os"
   ]
  },
  {
   "cell_type": "code",
   "execution_count": 5,
   "metadata": {},
   "outputs": [],
   "source": [
    "CASCADE = \"haarcascade_frontalface_default.xml\"\n",
    "\n",
    "def detect_faces(image, cascade_path=CASCADE):\n",
    "    \n",
    "    # read in the cascade\n",
    "    face_cascade = cv2.CascadeClassifier(cascade_path)\n",
    "    \n",
    "    # convert the image to grayscale-- this makes processing easier\n",
    "    grayscale_image = cv2.cvtColor(image, cv2.COLOR_BGR2GRAY)\n",
    "    \n",
    "    # detect the faces with adjust params\n",
    "    faces = face_cascade.detectMultiScale(\n",
    "            grayscale_image,\n",
    "            scaleFactor=1.1,\n",
    "            minNeighbors=5)\n",
    "    \n",
    "    # output a LIST of tuples, each representing a face\n",
    "    return faces"
   ]
  },
  {
   "cell_type": "code",
   "execution_count": 6,
   "metadata": {},
   "outputs": [],
   "source": [
    "# find the faces in a single image, and crop the photo down around them\n",
    "# input:  image path\n",
    "# output: None\n",
    "#         saves the cropped images to the \"faces\" directory\n",
    "\n",
    "OUTPUT = \"all_pictures/faces/{}_{}.jpg\"\n",
    "\n",
    "def get_faces_in_image(image_path, output_format=OUTPUT):\n",
    "    \n",
    "    # read in the image\n",
    "    # path is in the form: \"all_pictures/covers/vvv_ii_yyyy.jpg\n",
    "    image_name = image_path.split(\"/\")[2].split(\".\")[0]\n",
    "    image = cv2.imread(image_path)\n",
    "    print(image_name)\n",
    "    \n",
    "    # get a list of faces in the image\n",
    "    faces = detect_faces(image)\n",
    "    \n",
    "    # save each face as its own image\n",
    "    face_number = 0\n",
    "    for (x, y, width, height) in faces:\n",
    "        \n",
    "        # openCV treats each image as a numpy array, so you can \"slice\" the pixels\n",
    "        cropped = image[y : y + height, x : x + width]\n",
    "        \n",
    "        # record how many faces are in each picture\n",
    "        file_name = output_format.format(image_name, face_number)\n",
    "        cv2.imwrite(file_name, cropped)\n",
    "        face_number += 1\n",
    "    \n",
    "    # were there any faces found?\n",
    "    return (face_number != 0)"
   ]
  },
  {
   "cell_type": "code",
   "execution_count": 9,
   "metadata": {},
   "outputs": [],
   "source": [
    "# find all the faces in all the covers\n",
    "# input:  directory to search through\n",
    "# output: None\n",
    "\n",
    "DIR = \"covers\"\n",
    "    \n",
    "def get_all_faces(directory=DIR):\n",
    "    \n",
    "    # loop through all cover images\n",
    "    for image in os.listdir(directory):\n",
    "        \n",
    "        # image paths from os.listdir don't include the name of the directory\n",
    "        # so it needs to be added in\n",
    "        image_path = \"{}/{}\".format(DIR, image)\n",
    "        \n",
    "        # save the cropped faces of each image\n",
    "        get_faces_in_image(image_path)"
   ]
  },
  {
   "cell_type": "code",
   "execution_count": 10,
   "metadata": {},
   "outputs": [
    {
     "ename": "IndexError",
     "evalue": "list index out of range",
     "output_type": "error",
     "traceback": [
      "\u001b[1;31m---------------------------------------------------------------------------\u001b[0m",
      "\u001b[1;31mIndexError\u001b[0m                                Traceback (most recent call last)",
      "\u001b[1;32m<ipython-input-10-eed6500d835f>\u001b[0m in \u001b[0;36m<module>\u001b[1;34m\u001b[0m\n\u001b[1;32m----> 1\u001b[1;33m \u001b[0mget_all_faces\u001b[0m\u001b[1;33m(\u001b[0m\u001b[1;33m)\u001b[0m\u001b[1;33m\u001b[0m\u001b[1;33m\u001b[0m\u001b[0m\n\u001b[0m",
      "\u001b[1;32m<ipython-input-9-1890651fe51b>\u001b[0m in \u001b[0;36mget_all_faces\u001b[1;34m(directory)\u001b[0m\n\u001b[0;32m     15\u001b[0m \u001b[1;33m\u001b[0m\u001b[0m\n\u001b[0;32m     16\u001b[0m         \u001b[1;31m# save the cropped faces of each image\u001b[0m\u001b[1;33m\u001b[0m\u001b[1;33m\u001b[0m\u001b[1;33m\u001b[0m\u001b[0m\n\u001b[1;32m---> 17\u001b[1;33m         \u001b[0mget_faces_in_image\u001b[0m\u001b[1;33m(\u001b[0m\u001b[0mimage_path\u001b[0m\u001b[1;33m)\u001b[0m\u001b[1;33m\u001b[0m\u001b[1;33m\u001b[0m\u001b[0m\n\u001b[0m",
      "\u001b[1;32m<ipython-input-6-e27cc8bc5018>\u001b[0m in \u001b[0;36mget_faces_in_image\u001b[1;34m(image_path, output_format)\u001b[0m\n\u001b[0;32m     10\u001b[0m     \u001b[1;31m# read in the image\u001b[0m\u001b[1;33m\u001b[0m\u001b[1;33m\u001b[0m\u001b[1;33m\u001b[0m\u001b[0m\n\u001b[0;32m     11\u001b[0m     \u001b[1;31m# path is in the form: \"all_pictures/covers/vvv_ii_yyyy.jpg\u001b[0m\u001b[1;33m\u001b[0m\u001b[1;33m\u001b[0m\u001b[1;33m\u001b[0m\u001b[0m\n\u001b[1;32m---> 12\u001b[1;33m     \u001b[0mimage_name\u001b[0m \u001b[1;33m=\u001b[0m \u001b[0mimage_path\u001b[0m\u001b[1;33m.\u001b[0m\u001b[0msplit\u001b[0m\u001b[1;33m(\u001b[0m\u001b[1;34m\"/\"\u001b[0m\u001b[1;33m)\u001b[0m\u001b[1;33m[\u001b[0m\u001b[1;36m2\u001b[0m\u001b[1;33m]\u001b[0m\u001b[1;33m.\u001b[0m\u001b[0msplit\u001b[0m\u001b[1;33m(\u001b[0m\u001b[1;34m\".\"\u001b[0m\u001b[1;33m)\u001b[0m\u001b[1;33m[\u001b[0m\u001b[1;36m0\u001b[0m\u001b[1;33m]\u001b[0m\u001b[1;33m\u001b[0m\u001b[1;33m\u001b[0m\u001b[0m\n\u001b[0m\u001b[0;32m     13\u001b[0m     \u001b[0mimage\u001b[0m \u001b[1;33m=\u001b[0m \u001b[0mcv2\u001b[0m\u001b[1;33m.\u001b[0m\u001b[0mimread\u001b[0m\u001b[1;33m(\u001b[0m\u001b[0mimage_path\u001b[0m\u001b[1;33m)\u001b[0m\u001b[1;33m\u001b[0m\u001b[1;33m\u001b[0m\u001b[0m\n\u001b[0;32m     14\u001b[0m     \u001b[0mprint\u001b[0m\u001b[1;33m(\u001b[0m\u001b[0mimage_name\u001b[0m\u001b[1;33m)\u001b[0m\u001b[1;33m\u001b[0m\u001b[1;33m\u001b[0m\u001b[0m\n",
      "\u001b[1;31mIndexError\u001b[0m: list index out of range"
     ]
    }
   ],
   "source": [
    "get_all_faces()"
   ]
  },
  {
   "cell_type": "code",
   "execution_count": null,
   "metadata": {},
   "outputs": [],
   "source": []
  }
 ],
 "metadata": {
  "kernelspec": {
   "display_name": "Python 3",
   "language": "python",
   "name": "python3"
  },
  "language_info": {
   "codemirror_mode": {
    "name": "ipython",
    "version": 3
   },
   "file_extension": ".py",
   "mimetype": "text/x-python",
   "name": "python",
   "nbconvert_exporter": "python",
   "pygments_lexer": "ipython3",
   "version": "3.8.3"
  }
 },
 "nbformat": 4,
 "nbformat_minor": 4
}
